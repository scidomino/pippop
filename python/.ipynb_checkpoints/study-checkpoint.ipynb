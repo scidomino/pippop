{
 "cells": [
  {
   "cell_type": "code",
   "execution_count": 31,
   "id": "2f6f8cdc",
   "metadata": {},
   "outputs": [],
   "source": [
    "from sympy import *\n",
    "from sympy.integrals.rationaltools import ratint\n",
    "from IPython.display import display, Latex"
   ]
  },
  {
   "cell_type": "code",
   "execution_count": 32,
   "id": "98cab776",
   "metadata": {},
   "outputs": [
    {
     "data": {
      "text/latex": [
       "$\\displaystyle \\Huge \\left[\\begin{matrix}\\frac{P_{0 x} w_{0} \\left(1 - t\\right)^{2} + 2 P_{1 x} t w_{1} \\left(1 - t\\right) + P_{2 x} t^{2} w_{2}}{t^{2} w_{2} + 2 t w_{1} \\left(1 - t\\right) + w_{0} \\left(1 - t\\right)^{2}}\\\\\\frac{P_{0 y} w_{0} \\left(1 - t\\right)^{2} + 2 P_{1 y} t w_{1} \\left(1 - t\\right) + P_{2 y} t^{2} w_{2}}{t^{2} w_{2} + 2 t w_{1} \\left(1 - t\\right) + w_{0} \\left(1 - t\\right)^{2}}\\end{matrix}\\right]$"
      ],
      "text/plain": [
       "<IPython.core.display.Latex object>"
      ]
     },
     "metadata": {},
     "output_type": "display_data"
    }
   ],
   "source": [
    "P = Matrix([[symbols(\"P_\" + str(p) + \"_\" + n) for n in [\"x\", \"y\"]] for p in [0, 1, 2]])\n",
    "w = Matrix(symarray(\"w\", (3)))  # the 3 weights\n",
    "t = symbols(\"t\")  # parametric curve parameter. 0 < t < 1\n",
    "\n",
    "# The quadratic Bernstein basis polynomials\n",
    "B = Matrix([(1 - t) ** 2, 2 * t * (S.One - t), t**2])\n",
    "\n",
    "# The parametric curve\n",
    "C = P.T * diag(*w) * B / B.dot(w)\n",
    "\n",
    "display(Latex(f'$\\\\displaystyle \\\\Huge {latex(C)}$'))"
   ]
  },
  {
   "cell_type": "code",
   "execution_count": 33,
   "id": "29c2f8ac",
   "metadata": {},
   "outputs": [
    {
     "data": {
      "text/latex": [
       "$\\displaystyle \\Huge \\left[\\begin{matrix}\\frac{1 - 2 t}{2 \\left(2 t^{2} w_{1} - 2 t^{2} - 2 t w_{1} + 2 t - 1\\right)}\\\\- \\frac{2 P_{1 y} t w_{1} \\left(t - 1\\right)}{t^{2} - 2 t w_{1} \\left(t - 1\\right) + \\left(t - 1\\right)^{2}}\\end{matrix}\\right]$"
      ],
      "text/plain": [
       "<IPython.core.display.Latex object>"
      ]
     },
     "metadata": {},
     "output_type": "display_data"
    }
   ],
   "source": [
    "\n",
    "C = C.subs(\n",
    "    {\n",
    "        \"w_0\": 1,\n",
    "        \"w_2\": 1,\n",
    "        \"P_0_x\": -S.Half,\n",
    "        \"P_0_y\": 0,\n",
    "        \"P_1_x\": 0,\n",
    "        \"P_2_x\": S.Half,\n",
    "        \"P_2_y\": 0,\n",
    "    }\n",
    ")\n",
    "C = simplify(C)\n",
    "display(Latex(f'$\\\\displaystyle \\\\Huge {latex(C)}$'))"
   ]
  },
  {
   "cell_type": "code",
   "execution_count": null,
   "id": "a4a89d93",
   "metadata": {},
   "outputs": [
    {
     "data": {
      "text/latex": [
       "$\\displaystyle \\Large \\frac{P_{1 y} w_{1} \\left(4 t^{3} \\left(1 - w_{1}\\right) + 6 t^{2} \\left(w_{1} - 1\\right) - 2 t \\left(2 w_{1} - 1\\right) + w_{1} + \\sqrt{\\frac{1}{\\left(w_{1} - 1\\right)^{3} \\left(w_{1} + 1\\right)^{3}}} \\left(- \\log{\\left(t - \\frac{w_{1}^{3} \\sqrt{\\frac{1}{\\left(w_{1} - 1\\right)^{3} \\left(w_{1} + 1\\right)^{3}}}}{2} - \\frac{w_{1}^{2} \\sqrt{\\frac{1}{\\left(w_{1} - 1\\right)^{3} \\left(w_{1} + 1\\right)^{3}}}}{2} + \\frac{w_{1} \\sqrt{\\frac{1}{\\left(w_{1} - 1\\right)^{3} \\left(w_{1} + 1\\right)^{3}}}}{2} + \\frac{\\sqrt{\\frac{1}{\\left(w_{1} - 1\\right)^{3} \\left(w_{1} + 1\\right)^{3}}}}{2} - \\frac{1}{2} \\right)} + \\log{\\left(t + \\frac{w_{1}^{3} \\sqrt{\\frac{1}{\\left(w_{1} - 1\\right)^{3} \\left(w_{1} + 1\\right)^{3}}}}{2} + \\frac{w_{1}^{2} \\sqrt{\\frac{1}{\\left(w_{1} - 1\\right)^{3} \\left(w_{1} + 1\\right)^{3}}}}{2} - \\frac{w_{1} \\sqrt{\\frac{1}{\\left(w_{1} - 1\\right)^{3} \\left(w_{1} + 1\\right)^{3}}}}{2} - \\frac{\\sqrt{\\frac{1}{\\left(w_{1} - 1\\right)^{3} \\left(w_{1} + 1\\right)^{3}}}}{2} - \\frac{1}{2} \\right)}\\right) \\left(4 t^{4} \\left(w_{1}^{4} - 2 w_{1}^{3} + 2 w_{1} - 1\\right) + 8 t^{3} \\left(- w_{1}^{4} + 2 w_{1}^{3} - 2 w_{1} + 1\\right) + 4 t^{2} \\left(w_{1}^{4} - 3 w_{1}^{3} + w_{1}^{2} + 3 w_{1} - 2\\right) + 4 t \\left(w_{1}^{3} - w_{1}^{2} - w_{1} + 1\\right) + w_{1}^{2} - 1\\right)\\right)}{4 \\left(4 t^{4} \\left(w_{1}^{4} - 2 w_{1}^{3} + 2 w_{1} - 1\\right) - 8 t^{3} \\left(w_{1}^{4} - 2 w_{1}^{3} + 2 w_{1} - 1\\right) + 4 t^{2} \\left(w_{1}^{4} - 3 w_{1}^{3} + w_{1}^{2} + 3 w_{1} - 2\\right) + 4 t \\left(w_{1}^{3} - w_{1}^{2} - w_{1} + 1\\right) + w_{1}^{2} - 1\\right)}$"
      ],
      "text/plain": [
       "<IPython.core.display.Latex object>"
      ]
     },
     "metadata": {},
     "output_type": "display_data"
    }
   ],
   "source": [
    "x = C[0]\n",
    "y = C[1]\n",
    "area = simplify(ratint((x * diff(y, t)), t))\n",
    "area = collect(area, w[1])\n",
    "\n",
    "display(Latex(f'$\\\\displaystyle \\\\Large {latex(area)}$'))\n"
   ]
  }
 ],
 "metadata": {
  "kernelspec": {
   "display_name": "Python 3",
   "language": "python",
   "name": "python3"
  },
  "language_info": {
   "codemirror_mode": {
    "name": "ipython",
    "version": 3
   },
   "file_extension": ".py",
   "mimetype": "text/x-python",
   "name": "python",
   "nbconvert_exporter": "python",
   "pygments_lexer": "ipython3",
   "version": "3.13.7"
  }
 },
 "nbformat": 4,
 "nbformat_minor": 5
}
