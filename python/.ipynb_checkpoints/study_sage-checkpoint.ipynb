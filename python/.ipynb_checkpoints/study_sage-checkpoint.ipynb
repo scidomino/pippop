{
 "cells": [
  {
   "cell_type": "code",
   "execution_count": 6,
   "id": "2f6f8cdc",
   "metadata": {},
   "outputs": [],
   "source": [
    "from sage.all import *"
   ]
  },
  {
   "cell_type": "code",
   "execution_count": 11,
   "id": "98cab776",
   "metadata": {},
   "outputs": [
    {
     "data": {
      "text/html": [
       "<html>\\(\\displaystyle \\left(\\frac{P_{0_{x}} {\\left(t - 1\\right)}^{2} w_{0} - 2 \\, P_{1_{x}} {\\left(t - 1\\right)} t w_{1} + P_{2_{x}} t^{2} w_{2}}{{\\left(t - 1\\right)}^{2} w_{0} - 2 \\, {\\left(t - 1\\right)} t w_{1} + t^{2} w_{2}},\\,\\frac{P_{0_{y}} {\\left(t - 1\\right)}^{2} w_{0} - 2 \\, P_{1_{y}} {\\left(t - 1\\right)} t w_{1} + P_{2_{y}} t^{2} w_{2}}{{\\left(t - 1\\right)}^{2} w_{0} - 2 \\, {\\left(t - 1\\right)} t w_{1} + t^{2} w_{2}}\\right)\\)</html>"
      ],
      "text/latex": [
       "$\\displaystyle \\left(\\frac{P_{0_{x}} {\\left(t - 1\\right)}^{2} w_{0} - 2 \\, P_{1_{x}} {\\left(t - 1\\right)} t w_{1} + P_{2_{x}} t^{2} w_{2}}{{\\left(t - 1\\right)}^{2} w_{0} - 2 \\, {\\left(t - 1\\right)} t w_{1} + t^{2} w_{2}},\\,\\frac{P_{0_{y}} {\\left(t - 1\\right)}^{2} w_{0} - 2 \\, P_{1_{y}} {\\left(t - 1\\right)} t w_{1} + P_{2_{y}} t^{2} w_{2}}{{\\left(t - 1\\right)}^{2} w_{0} - 2 \\, {\\left(t - 1\\right)} t w_{1} + t^{2} w_{2}}\\right)$"
      ],
      "text/plain": [
       "((P_0_x*(t - 1)^2*w_0 - 2*P_1_x*(t - 1)*t*w_1 + P_2_x*t^2*w_2)/((t - 1)^2*w_0 - 2*(t - 1)*t*w_1 + t^2*w_2), (P_0_y*(t - 1)^2*w_0 - 2*P_1_y*(t - 1)*t*w_1 + P_2_y*t^2*w_2)/((t - 1)^2*w_0 - 2*(t - 1)*t*w_1 + t^2*w_2))"
      ]
     },
     "metadata": {},
     "output_type": "display_data"
    }
   ],
   "source": [
    "P = matrix(SR, [[var(f\"P_{p}_{n}\", domain='real') for n in [\"x\", \"y\"]] for p in [0, 1, 2]])\n",
    "w = vector(SR, var(\"w_0, w_1, w_2\", domain='real'))\n",
    "t, n, k, d = var(\"t, n, k, d\", domain='real')\n",
    "\n",
    "# The quadratic Bernstein basis polynomials\n",
    "B = vector([(1 - t) ** 2, 2 * t * (1 - t), t**2])\n",
    "\n",
    "# The parametric curve\n",
    "C = (P.transpose() * diagonal_matrix(w) * B) / B.dot_product(w)\n",
    "\n",
    "show(C)"
   ]
  },
  {
   "cell_type": "code",
   "execution_count": 19,
   "id": "29c2f8ac",
   "metadata": {},
   "outputs": [
    {
     "data": {
      "text/html": [
       "<html>\\(\\displaystyle \\left(\\frac{d {\\left(t - 1\\right)}^{2} - d t^{2}}{\\frac{2 \\, n {\\left(t - 1\\right)} t}{\\sqrt{n^{2} + 1}} - {\\left(t - 1\\right)}^{2} - t^{2}},\\,\\frac{2 \\, k n {\\left(t - 1\\right)} t}{{\\left(\\frac{2 \\, n {\\left(t - 1\\right)} t}{\\sqrt{n^{2} + 1}} - {\\left(t - 1\\right)}^{2} - t^{2}\\right)} {\\left(n^{2} - {\\left(n^{3} + n\\right)} \\arctan\\left(n\\right)\\right)} \\sqrt{n^{2} + 1}}\\right)\\)</html>"
      ],
      "text/latex": [
       "$\\displaystyle \\left(\\frac{d {\\left(t - 1\\right)}^{2} - d t^{2}}{\\frac{2 \\, n {\\left(t - 1\\right)} t}{\\sqrt{n^{2} + 1}} - {\\left(t - 1\\right)}^{2} - t^{2}},\\,\\frac{2 \\, k n {\\left(t - 1\\right)} t}{{\\left(\\frac{2 \\, n {\\left(t - 1\\right)} t}{\\sqrt{n^{2} + 1}} - {\\left(t - 1\\right)}^{2} - t^{2}\\right)} {\\left(n^{2} - {\\left(n^{3} + n\\right)} \\arctan\\left(n\\right)\\right)} \\sqrt{n^{2} + 1}}\\right)$"
      ],
      "text/plain": [
       "((d*(t - 1)^2 - d*t^2)/(2*n*(t - 1)*t/sqrt(n^2 + 1) - (t - 1)^2 - t^2), 2*k*n*(t - 1)*t/((2*n*(t - 1)*t/sqrt(n^2 + 1) - (t - 1)^2 - t^2)*(n^2 - (n^3 + n)*arctan(n))*sqrt(n^2 + 1)))"
      ]
     },
     "metadata": {},
     "output_type": "display_data"
    },
    {
     "data": {
      "text/plain": [
       "((d*(t - 1)^2 - d*t^2)/(2*n*(t - 1)*t/sqrt(n^2 + 1) - (t - 1)^2 - t^2), 2*k*n*(t - 1)*t/((2*n*(t - 1)*t/sqrt(n^2 + 1) - (t - 1)^2 - t^2)*(n^2 - (n^3 + n)*arctan(n))*sqrt(n^2 + 1)))"
      ]
     },
     "execution_count": 19,
     "metadata": {},
     "output_type": "execute_result"
    }
   ],
   "source": [
    "Csub = C.subs(\n",
    "    {\n",
    "        w_0: 1,\n",
    "        w_1: n/sqrt(1+n**2),\n",
    "        w_2: 1,\n",
    "        P_0_x: -d,\n",
    "        P_0_y: 0,\n",
    "        P_1_x: 0,\n",
    "        P_1_y: k/(n**2 - (n**3+n)*arccot(n)),\n",
    "        P_2_x: d,\n",
    "        P_2_y: 0,\n",
    "    }\n",
    ")\n",
    "show(Csub)\n",
    "Csub"
   ]
  },
  {
   "cell_type": "code",
   "execution_count": 20,
   "id": "d7001b5b-7161-4d25-a4d0-93721799de7a",
   "metadata": {},
   "outputs": [
    {
     "data": {
      "text/html": [
       "<html>\\(\\displaystyle -\\frac{d k n - 2 \\, {\\left(d k n^{2} + d k\\right)} \\arctan\\left(-n + \\sqrt{n^{2} + 1}\\right)}{{\\left(n^{2} + 1\\right)} \\arctan\\left(n\\right) - n}\\)</html>"
      ],
      "text/latex": [
       "$\\displaystyle -\\frac{d k n - 2 \\, {\\left(d k n^{2} + d k\\right)} \\arctan\\left(-n + \\sqrt{n^{2} + 1}\\right)}{{\\left(n^{2} + 1\\right)} \\arctan\\left(n\\right) - n}$"
      ],
      "text/plain": [
       "-(d*k*n - 2*(d*k*n^2 + d*k)*arctan(-n + sqrt(n^2 + 1)))/((n^2 + 1)*arctan(n) - n)"
      ]
     },
     "metadata": {},
     "output_type": "display_data"
    },
    {
     "data": {
      "text/plain": [
       "-(d*k*n - 2*(d*k*n^2 + d*k)*arctan(-n + sqrt(n^2 + 1)))/((n^2 + 1)*arctan(n) - n)"
      ]
     },
     "execution_count": 20,
     "metadata": {},
     "output_type": "execute_result"
    }
   ],
   "source": [
    "x = Csub[0]\n",
    "y = Csub[1]\n",
    "\n",
    "assume(n>0)\n",
    "\n",
    "area = (integrate(x*derivative(y,t)-y*derivative(x,t),t,0,1)/2).full_simplify()\n",
    "\n",
    "show(area)\n",
    "\n",
    "area"
   ]
  },
  {
   "cell_type": "code",
   "execution_count": null,
   "id": "364d1279-e874-486d-935e-061a77777685",
   "metadata": {},
   "outputs": [],
   "source": []
  }
 ],
 "metadata": {
  "kernelspec": {
   "display_name": "SageMath 10.7",
   "language": "sage",
   "name": "sagemath-10.7"
  },
  "language_info": {
   "codemirror_mode": {
    "name": "ipython",
    "version": 3
   },
   "file_extension": ".py",
   "mimetype": "text/x-python",
   "name": "python",
   "nbconvert_exporter": "python",
   "pygments_lexer": "ipython3",
   "version": "3.13.3"
  }
 },
 "nbformat": 4,
 "nbformat_minor": 5
}
