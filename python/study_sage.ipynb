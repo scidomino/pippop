{
 "cells": [
  {
   "cell_type": "code",
   "execution_count": 18,
   "id": "2f6f8cdc",
   "metadata": {},
   "outputs": [],
   "source": [
    "from sage.all import *"
   ]
  },
  {
   "cell_type": "code",
   "execution_count": 23,
   "id": "98cab776",
   "metadata": {},
   "outputs": [
    {
     "data": {
      "text/html": [
       "<html>\\(\\displaystyle \\left(\\frac{2 \\, P_{1_{x}} {\\left(t - 1\\right)} t w_{1} - P_{0_{x}} {\\left(t - 1\\right)}^{2} - P_{2_{x}} t^{2}}{2 \\, {\\left(t - 1\\right)} t w_{1} - {\\left(t - 1\\right)}^{2} - t^{2}},\\,\\frac{2 \\, P_{1_{y}} {\\left(t - 1\\right)} t w_{1} - P_{0_{y}} {\\left(t - 1\\right)}^{2} - P_{2_{y}} t^{2}}{2 \\, {\\left(t - 1\\right)} t w_{1} - {\\left(t - 1\\right)}^{2} - t^{2}}\\right)\\)</html>"
      ],
      "text/latex": [
       "$\\displaystyle \\left(\\frac{2 \\, P_{1_{x}} {\\left(t - 1\\right)} t w_{1} - P_{0_{x}} {\\left(t - 1\\right)}^{2} - P_{2_{x}} t^{2}}{2 \\, {\\left(t - 1\\right)} t w_{1} - {\\left(t - 1\\right)}^{2} - t^{2}},\\,\\frac{2 \\, P_{1_{y}} {\\left(t - 1\\right)} t w_{1} - P_{0_{y}} {\\left(t - 1\\right)}^{2} - P_{2_{y}} t^{2}}{2 \\, {\\left(t - 1\\right)} t w_{1} - {\\left(t - 1\\right)}^{2} - t^{2}}\\right)$"
      ],
      "text/plain": [
       "((2*P_1_x*(t - 1)*t*w1 - P_0_x*(t - 1)^2 - P_2_x*t^2)/(2*(t - 1)*t*w1 - (t - 1)^2 - t^2), (2*P_1_y*(t - 1)*t*w1 - P_0_y*(t - 1)^2 - P_2_y*t^2)/(2*(t - 1)*t*w1 - (t - 1)^2 - t^2))"
      ]
     },
     "metadata": {},
     "output_type": "display_data"
    }
   ],
   "source": [
    "# Define symbols for the quadratic rational Bezier curve\n",
    "# In Sage, we use var() to declare symbolic variables\n",
    "P = matrix([[var(f\"P_{p}_{n}\") for n in [\"x\", \"y\"]] for p in [0, 1, 2]])\n",
    "w = vector(var(\"w0, w1, w2\")) # Use a vector for the weights\n",
    "t = var(\"t\")\n",
    "\n",
    "# The quadratic Bernstein basis polynomials as a vector\n",
    "B = vector([(1 - t) ** 2, 2 * t * (1 - t), t**2])\n",
    "\n",
    "# The parametric curve\n",
    "# Note the use of diagonal_matrix() and vector/matrix multiplication\n",
    "C = (P.transpose() * diagonal_matrix(w) * B) / (B * w)\n",
    "\n",
    "\n",
    "C = C.subs({w[0]: 1, w[2]: 1})\n",
    "\n",
    "show(C)\n"
   ]
  },
  {
   "cell_type": "code",
   "execution_count": 36,
   "id": "d7001b5b-7161-4d25-a4d0-93721799de7a",
   "metadata": {},
   "outputs": [
    {
     "data": {
      "text/html": [
       "<html>\\(\\displaystyle -\\frac{{\\left(P_{0_{y}} P_{1_{x}} - P_{0_{x}} P_{1_{y}} + P_{1_{y}} P_{2_{x}} - P_{1_{x}} P_{2_{y}}\\right)} w_{1}^{4} + 2 \\, {\\left(P_{0_{y}} P_{1_{x}} - P_{0_{x}} P_{1_{y}} - {\\left(P_{0_{y}} - P_{1_{y}}\\right)} P_{2_{x}} + {\\left(P_{0_{x}} - P_{1_{x}}\\right)} P_{2_{y}}\\right)} \\sqrt{-w_{1}^{2} + 1} w_{1} \\arctan\\left(\\frac{\\sqrt{-w_{1}^{2} + 1}}{w_{1} + 1}\\right) - {\\left(P_{0_{y}} P_{1_{x}} - P_{0_{x}} P_{1_{y}} + {\\left(P_{0_{y}} + P_{1_{y}}\\right)} P_{2_{x}} - {\\left(P_{0_{x}} + P_{1_{x}}\\right)} P_{2_{y}}\\right)} w_{1}^{2} + P_{0_{y}} P_{2_{x}} - P_{0_{x}} P_{2_{y}}}{2 \\, {\\left(w_{1}^{4} - 2 \\, w_{1}^{2} + 1\\right)}}\\)</html>"
      ],
      "text/latex": [
       "$\\displaystyle -\\frac{{\\left(P_{0_{y}} P_{1_{x}} - P_{0_{x}} P_{1_{y}} + P_{1_{y}} P_{2_{x}} - P_{1_{x}} P_{2_{y}}\\right)} w_{1}^{4} + 2 \\, {\\left(P_{0_{y}} P_{1_{x}} - P_{0_{x}} P_{1_{y}} - {\\left(P_{0_{y}} - P_{1_{y}}\\right)} P_{2_{x}} + {\\left(P_{0_{x}} - P_{1_{x}}\\right)} P_{2_{y}}\\right)} \\sqrt{-w_{1}^{2} + 1} w_{1} \\arctan\\left(\\frac{\\sqrt{-w_{1}^{2} + 1}}{w_{1} + 1}\\right) - {\\left(P_{0_{y}} P_{1_{x}} - P_{0_{x}} P_{1_{y}} + {\\left(P_{0_{y}} + P_{1_{y}}\\right)} P_{2_{x}} - {\\left(P_{0_{x}} + P_{1_{x}}\\right)} P_{2_{y}}\\right)} w_{1}^{2} + P_{0_{y}} P_{2_{x}} - P_{0_{x}} P_{2_{y}}}{2 \\, {\\left(w_{1}^{4} - 2 \\, w_{1}^{2} + 1\\right)}}$"
      ],
      "text/plain": [
       "-1/2*((P_0_y*P_1_x - P_0_x*P_1_y + P_1_y*P_2_x - P_1_x*P_2_y)*w1^4 + 2*(P_0_y*P_1_x - P_0_x*P_1_y - (P_0_y - P_1_y)*P_2_x + (P_0_x - P_1_x)*P_2_y)*sqrt(-w1^2 + 1)*w1*arctan(sqrt(-w1^2 + 1)/(w1 + 1)) - (P_0_y*P_1_x - P_0_x*P_1_y + (P_0_y + P_1_y)*P_2_x - (P_0_x + P_1_x)*P_2_y)*w1^2 + P_0_y*P_2_x - P_0_x*P_2_y)/(w1^4 - 2*w1^2 + 1)"
      ]
     },
     "metadata": {},
     "output_type": "display_data"
    }
   ],
   "source": [
    "assume(w[1]>0)\n",
    "assume(w[1]<1)\n",
    "\n",
    "x = C[0]\n",
    "y = C[1]\n",
    "\n",
    "area = (integrate(x*derivative(y,t)-y*derivative(x,t),t,0,1)/2).full_simplify()\n",
    "\n",
    "show(area)"
   ]
  },
  {
   "cell_type": "code",
   "execution_count": 37,
   "id": "29c2f8ac",
   "metadata": {},
   "outputs": [
    {
     "data": {
      "text/html": [
       "<html>\\(\\displaystyle \\frac{{\\left(2 \\, P_{0_{x}}^{2} + 2 \\, P_{0_{y}}^{2} - {\\left(P_{0_{y}} \\arctan\\left(1, u + v\\right) + 4 \\, P_{0_{x}}\\right)} P_{2_{x}} + 2 \\, P_{2_{x}}^{2} + {\\left(P_{0_{x}} \\arctan\\left(1, u + v\\right) - 4 \\, P_{0_{y}}\\right)} P_{2_{y}} + 2 \\, P_{2_{y}}^{2}\\right)} u^{2} - {\\left(2 \\, P_{0_{x}}^{2} + 2 \\, P_{0_{y}}^{2} + {\\left(P_{0_{y}} \\arctan\\left(1, u + v\\right) - 4 \\, P_{0_{x}}\\right)} P_{2_{x}} + 2 \\, P_{2_{x}}^{2} - {\\left(P_{0_{x}} \\arctan\\left(1, u + v\\right) + 4 \\, P_{0_{y}}\\right)} P_{2_{y}} + 2 \\, P_{2_{y}}^{2}\\right)} v^{2} - P_{0_{y}} P_{2_{x}} \\arctan\\left(1, u + v\\right) + P_{0_{x}} P_{2_{y}} \\arctan\\left(1, u + v\\right) + {\\left(P_{0_{y}} P_{2_{x}} - P_{0_{x}} P_{2_{y}}\\right)} u + {\\left(P_{0_{y}} P_{2_{x}} - P_{0_{x}} P_{2_{y}} - 2 \\, {\\left(P_{0_{y}} P_{2_{x}} \\arctan\\left(1, u + v\\right) - P_{0_{x}} P_{2_{y}} \\arctan\\left(1, u + v\\right)\\right)} u\\right)} v - 4 \\, {\\left({\\left(P_{0_{x}}^{2} + P_{0_{y}}^{2} - 2 \\, P_{0_{x}} P_{2_{x}} + P_{2_{x}}^{2} - 2 \\, P_{0_{y}} P_{2_{y}} + P_{2_{y}}^{2}\\right)} u^{3} - {\\left(P_{0_{x}}^{2} + P_{0_{y}}^{2} - 2 \\, P_{0_{x}} P_{2_{x}} + P_{2_{x}}^{2} - 2 \\, P_{0_{y}} P_{2_{y}} + P_{2_{y}}^{2}\\right)} u v^{2} - {\\left(P_{0_{x}}^{2} + P_{0_{y}}^{2} - 2 \\, P_{0_{x}} P_{2_{x}} + P_{2_{x}}^{2} - 2 \\, P_{0_{y}} P_{2_{y}} + P_{2_{y}}^{2}\\right)} v^{3} + {\\left(P_{0_{x}}^{2} + P_{0_{y}}^{2} - 2 \\, P_{0_{x}} P_{2_{x}} + P_{2_{x}}^{2} - 2 \\, P_{0_{y}} P_{2_{y}} + P_{2_{y}}^{2}\\right)} u + {\\left({\\left(P_{0_{x}}^{2} + P_{0_{y}}^{2} - 2 \\, P_{0_{x}} P_{2_{x}} + P_{2_{x}}^{2} - 2 \\, P_{0_{y}} P_{2_{y}} + P_{2_{y}}^{2}\\right)} u^{2} - P_{0_{x}}^{2} - P_{0_{y}}^{2} + 2 \\, P_{0_{x}} P_{2_{x}} - P_{2_{x}}^{2} + 2 \\, P_{0_{y}} P_{2_{y}} - P_{2_{y}}^{2}\\right)} v\\right)} \\arctan\\left(\\frac{1}{u + v + \\sqrt{u^{2} + 2 \\, u v + v^{2} + 1}}\\right)}{2 \\, {\\left(u^{2} \\arctan\\left(1, u + v\\right) + v^{2} \\arctan\\left(1, u + v\\right) + {\\left(2 \\, u \\arctan\\left(1, u + v\\right) - 1\\right)} v - u + \\arctan\\left(1, u + v\\right)\\right)}}\\)</html>"
      ],
      "text/latex": [
       "$\\displaystyle \\frac{{\\left(2 \\, P_{0_{x}}^{2} + 2 \\, P_{0_{y}}^{2} - {\\left(P_{0_{y}} \\arctan\\left(1, u + v\\right) + 4 \\, P_{0_{x}}\\right)} P_{2_{x}} + 2 \\, P_{2_{x}}^{2} + {\\left(P_{0_{x}} \\arctan\\left(1, u + v\\right) - 4 \\, P_{0_{y}}\\right)} P_{2_{y}} + 2 \\, P_{2_{y}}^{2}\\right)} u^{2} - {\\left(2 \\, P_{0_{x}}^{2} + 2 \\, P_{0_{y}}^{2} + {\\left(P_{0_{y}} \\arctan\\left(1, u + v\\right) - 4 \\, P_{0_{x}}\\right)} P_{2_{x}} + 2 \\, P_{2_{x}}^{2} - {\\left(P_{0_{x}} \\arctan\\left(1, u + v\\right) + 4 \\, P_{0_{y}}\\right)} P_{2_{y}} + 2 \\, P_{2_{y}}^{2}\\right)} v^{2} - P_{0_{y}} P_{2_{x}} \\arctan\\left(1, u + v\\right) + P_{0_{x}} P_{2_{y}} \\arctan\\left(1, u + v\\right) + {\\left(P_{0_{y}} P_{2_{x}} - P_{0_{x}} P_{2_{y}}\\right)} u + {\\left(P_{0_{y}} P_{2_{x}} - P_{0_{x}} P_{2_{y}} - 2 \\, {\\left(P_{0_{y}} P_{2_{x}} \\arctan\\left(1, u + v\\right) - P_{0_{x}} P_{2_{y}} \\arctan\\left(1, u + v\\right)\\right)} u\\right)} v - 4 \\, {\\left({\\left(P_{0_{x}}^{2} + P_{0_{y}}^{2} - 2 \\, P_{0_{x}} P_{2_{x}} + P_{2_{x}}^{2} - 2 \\, P_{0_{y}} P_{2_{y}} + P_{2_{y}}^{2}\\right)} u^{3} - {\\left(P_{0_{x}}^{2} + P_{0_{y}}^{2} - 2 \\, P_{0_{x}} P_{2_{x}} + P_{2_{x}}^{2} - 2 \\, P_{0_{y}} P_{2_{y}} + P_{2_{y}}^{2}\\right)} u v^{2} - {\\left(P_{0_{x}}^{2} + P_{0_{y}}^{2} - 2 \\, P_{0_{x}} P_{2_{x}} + P_{2_{x}}^{2} - 2 \\, P_{0_{y}} P_{2_{y}} + P_{2_{y}}^{2}\\right)} v^{3} + {\\left(P_{0_{x}}^{2} + P_{0_{y}}^{2} - 2 \\, P_{0_{x}} P_{2_{x}} + P_{2_{x}}^{2} - 2 \\, P_{0_{y}} P_{2_{y}} + P_{2_{y}}^{2}\\right)} u + {\\left({\\left(P_{0_{x}}^{2} + P_{0_{y}}^{2} - 2 \\, P_{0_{x}} P_{2_{x}} + P_{2_{x}}^{2} - 2 \\, P_{0_{y}} P_{2_{y}} + P_{2_{y}}^{2}\\right)} u^{2} - P_{0_{x}}^{2} - P_{0_{y}}^{2} + 2 \\, P_{0_{x}} P_{2_{x}} - P_{2_{x}}^{2} + 2 \\, P_{0_{y}} P_{2_{y}} - P_{2_{y}}^{2}\\right)} v\\right)} \\arctan\\left(\\frac{1}{u + v + \\sqrt{u^{2} + 2 \\, u v + v^{2} + 1}}\\right)}{2 \\, {\\left(u^{2} \\arctan\\left(1, u + v\\right) + v^{2} \\arctan\\left(1, u + v\\right) + {\\left(2 \\, u \\arctan\\left(1, u + v\\right) - 1\\right)} v - u + \\arctan\\left(1, u + v\\right)\\right)}}$"
      ],
      "text/plain": [
       "1/2*((2*P_0_x^2 + 2*P_0_y^2 - (P_0_y*arctan2(1, u + v) + 4*P_0_x)*P_2_x + 2*P_2_x^2 + (P_0_x*arctan2(1, u + v) - 4*P_0_y)*P_2_y + 2*P_2_y^2)*u^2 - (2*P_0_x^2 + 2*P_0_y^2 + (P_0_y*arctan2(1, u + v) - 4*P_0_x)*P_2_x + 2*P_2_x^2 - (P_0_x*arctan2(1, u + v) + 4*P_0_y)*P_2_y + 2*P_2_y^2)*v^2 - P_0_y*P_2_x*arctan2(1, u + v) + P_0_x*P_2_y*arctan2(1, u + v) + (P_0_y*P_2_x - P_0_x*P_2_y)*u + (P_0_y*P_2_x - P_0_x*P_2_y - 2*(P_0_y*P_2_x*arctan2(1, u + v) - P_0_x*P_2_y*arctan2(1, u + v))*u)*v - 4*((P_0_x^2 + P_0_y^2 - 2*P_0_x*P_2_x + P_2_x^2 - 2*P_0_y*P_2_y + P_2_y^2)*u^3 - (P_0_x^2 + P_0_y^2 - 2*P_0_x*P_2_x + P_2_x^2 - 2*P_0_y*P_2_y + P_2_y^2)*u*v^2 - (P_0_x^2 + P_0_y^2 - 2*P_0_x*P_2_x + P_2_x^2 - 2*P_0_y*P_2_y + P_2_y^2)*v^3 + (P_0_x^2 + P_0_y^2 - 2*P_0_x*P_2_x + P_2_x^2 - 2*P_0_y*P_2_y + P_2_y^2)*u + ((P_0_x^2 + P_0_y^2 - 2*P_0_x*P_2_x + P_2_x^2 - 2*P_0_y*P_2_y + P_2_y^2)*u^2 - P_0_x^2 - P_0_y^2 + 2*P_0_x*P_2_x - P_2_x^2 + 2*P_0_y*P_2_y - P_2_y^2)*v)*arctan(1/(u + v + sqrt(u^2 + 2*u*v + v^2 + 1))))/(u^2*arctan2(1, u + v) + v^2*arctan2(1, u + v) + (2*u*arctan2(1, u + v) - 1)*v - u + arctan2(1, u + v))"
      ]
     },
     "metadata": {},
     "output_type": "display_data"
    }
   ],
   "source": [
    "u, v = var(\"u, v\")\n",
    "\n",
    "l = u + v\n",
    "k = u - v\n",
    "\n",
    "# Weird factor required to make area = k * ||P_2-P_0||^2\n",
    "weirdy_factor = 2 * k / ((l**3 + l) * atan2(1, l) - l**2)\n",
    "\n",
    "subs = {\n",
    "        w[1]: l/sqrt(1+l**2),\n",
    "        # Constrain P_1 to be on the line equidistant from P_0 and P_2, parameterized by k.\n",
    "        P[1, 0]: (P[0, 0] + P[2, 0]) / 2 + weirdy_factor * (P[0, 1] - P[2, 1]),\n",
    "        P[1, 1]: (P[0, 1] + P[2, 1]) / 2 + weirdy_factor * (P[2, 0] - P[0, 0]),\n",
    "}\n",
    "\n",
    "Csub = C.subs(subs)\n",
    "\n",
    "complex_form = arctan(1 / (l + sqrt(l**2 + 1)))\n",
    "simple_form = atan2(1, l) / 2\n",
    "areaSub = area.subs(subs).full_simplify().subs({complex_form: simple_form}).simplify()\n",
    "\n",
    "show(areaSub)"
   ]
  },
  {
   "cell_type": "code",
   "execution_count": null,
   "id": "293f534a-16a3-4d5e-801f-f180c1afcabc",
   "metadata": {},
   "outputs": [],
   "source": []
  }
 ],
 "metadata": {
  "kernelspec": {
   "display_name": "SageMath 10.7",
   "language": "sage",
   "name": "sagemath-10.7"
  },
  "language_info": {
   "codemirror_mode": {
    "name": "ipython",
    "version": 3
   },
   "file_extension": ".py",
   "mimetype": "text/x-python",
   "name": "python",
   "nbconvert_exporter": "python",
   "pygments_lexer": "ipython3",
   "version": "3.13.3"
  }
 },
 "nbformat": 4,
 "nbformat_minor": 5
}
